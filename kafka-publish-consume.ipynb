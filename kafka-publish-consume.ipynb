{
 "cells": [
  {
   "cell_type": "markdown",
   "id": "f70044e4-7c7b-4da8-a0f1-b8d6259f8b61",
   "metadata": {},
   "source": [
    "##### Reference - https://betterprogramming.pub/a-simple-apache-kafka-cluster-with-docker-kafdrop-and-python-cf45ab99e2b9\n",
    "Use  kafka-python library instead of kafka mentioned in link. Install using below command\n",
    "pip install --upgrade kafka-python\n",
    "\n",
    "Create topic within kfka1-1 pod using below command: -\n",
    "kafka-topics --zookeeper zookeeper:2181 --create --topic my-topic-three --partitions 1 --replication-factor 3"
   ]
  },
  {
   "cell_type": "code",
   "execution_count": 2,
   "id": "42ee3dc0-cf4f-45a9-8565-92c49b207e63",
   "metadata": {},
   "outputs": [],
   "source": [
    "# !pip install --upgrade kafka-python"
   ]
  },
  {
   "cell_type": "code",
   "execution_count": 1,
   "id": "ea7d82a0-c53a-4f7b-99b7-f85507a3e0d7",
   "metadata": {},
   "outputs": [],
   "source": [
    "from kafka import KafkaProducer\n",
    "\n",
    "# Configuration\n",
    "bootstrap_servers = ['localhost:9091', 'localhost:9092', 'localhost:9093']\n",
    "topic_name = 'my-topic-three'\n",
    "\n",
    "# Create a Kafka producer\n",
    "producer = KafkaProducer(bootstrap_servers=bootstrap_servers)\n",
    "\n",
    "# Send a message to the topic\n",
    "producer.send(topic_name, b'Hello World2!')\n",
    "\n",
    "# Wait for all messages to be sent\n",
    "producer.flush()"
   ]
  },
  {
   "cell_type": "code",
   "execution_count": 2,
   "id": "ab8c0fac-5f50-4030-a312-89daf0a6b68e",
   "metadata": {},
   "outputs": [],
   "source": [
    "## This will listen indefinitely stalling the cell.\n",
    "# from kafka import KafkaConsumer\n",
    "\n",
    "# # Configuration\n",
    "# bootstrap_servers = ['localhost:9091', 'localhost:9092', 'localhost:9093']\n",
    "# topic_name = 'my-topic-three'\n",
    "# group_id = 'my-group'\n",
    "\n",
    "# # Create a Kafka consumer\n",
    "# consumer = KafkaConsumer(\n",
    "#     topic_name,\n",
    "#     bootstrap_servers=bootstrap_servers,\n",
    "#     group_id=group_id,\n",
    "#     auto_offset_reset='earliest'  # Start reading at the earliest available message\n",
    "# )\n",
    "\n",
    "# # Read messages from the topic\n",
    "# for message in consumer:\n",
    "#     print(f\"Received message: {message.value.decode('utf-8')}\")\n",
    "\n",
    "# # Close the consumer\n",
    "# consumer.close()\n"
   ]
  },
  {
   "cell_type": "code",
   "execution_count": 3,
   "id": "321b698b-da4b-41b3-9da4-4cc84e0576a6",
   "metadata": {},
   "outputs": [
    {
     "name": "stdout",
     "output_type": "stream",
     "text": [
      "Received message: Hello World2!\n"
     ]
    }
   ],
   "source": [
    "#  This approcah of consuming will receive for messages and will timeout after 5 seconds of inactivity\n",
    "from kafka import KafkaConsumer\n",
    "import time\n",
    "\n",
    "# Configuration\n",
    "bootstrap_servers = ['localhost:9091', 'localhost:9092', 'localhost:9093']\n",
    "topic_name = 'my-topic-three'\n",
    "group_id = 'my-group'\n",
    "\n",
    "# Create a Kafka consumer\n",
    "consumer = KafkaConsumer(\n",
    "    topic_name,\n",
    "    bootstrap_servers=bootstrap_servers,\n",
    "    group_id=group_id,\n",
    "    auto_offset_reset='earliest',\n",
    "    consumer_timeout_ms=5000  # Stop after 5 seconds of inactivity\n",
    ")\n",
    "\n",
    "# Read messages from the topic\n",
    "try:\n",
    "    for message in consumer:\n",
    "        print(f\"Received message: {message.value.decode('utf-8')}\")\n",
    "finally:\n",
    "    # Close the consumer\n",
    "    consumer.close()\n"
   ]
  },
  {
   "cell_type": "code",
   "execution_count": null,
   "id": "3fc976ef-4bf9-48bc-be53-26436fff76b3",
   "metadata": {},
   "outputs": [],
   "source": []
  }
 ],
 "metadata": {
  "kernelspec": {
   "display_name": "Python 3 (ipykernel)",
   "language": "python",
   "name": "python3"
  },
  "language_info": {
   "codemirror_mode": {
    "name": "ipython",
    "version": 3
   },
   "file_extension": ".py",
   "mimetype": "text/x-python",
   "name": "python",
   "nbconvert_exporter": "python",
   "pygments_lexer": "ipython3",
   "version": "3.10.9"
  }
 },
 "nbformat": 4,
 "nbformat_minor": 5
}
